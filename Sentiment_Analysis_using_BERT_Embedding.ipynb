{
  "nbformat": 4,
  "nbformat_minor": 0,
  "metadata": {
    "colab": {
      "name": "Sentiment Analysis using BERT Embedding",
      "provenance": [],
      "collapsed_sections": [],
      "toc_visible": true,
      "include_colab_link": true
    },
    "kernelspec": {
      "name": "python3",
      "display_name": "Python 3"
    },
    "accelerator": "GPU"
  },
  "cells": [
    {
      "cell_type": "markdown",
      "metadata": {
        "id": "view-in-github",
        "colab_type": "text"
      },
      "source": [
        "<a href=\"https://colab.research.google.com/github/patutoes/BERT-Embedding-for-Sentiment-Analysis/blob/main/Sentiment_Analysis_using_BERT_Embedding.ipynb\" target=\"_parent\"><img src=\"https://colab.research.google.com/assets/colab-badge.svg\" alt=\"Open In Colab\"/></a>"
      ]
    },
    {
      "cell_type": "markdown",
      "metadata": {
        "id": "1tadN4hSCP9p"
      },
      "source": [
        "# Stage 1: Importing dependencies"
      ]
    },
    {
      "cell_type": "code",
      "metadata": {
        "id": "EUU4TlmoFMZ_"
      },
      "source": [
        "import numpy as np\n",
        "import math\n",
        "import re\n",
        "import pandas as pd\n",
        "from bs4 import BeautifulSoup\n",
        "import random\n",
        "\n",
        "from google.colab import drive"
      ],
      "execution_count": 2,
      "outputs": []
    },
    {
      "cell_type": "code",
      "metadata": {
        "id": "lXj8lk3uGn4P",
        "colab": {
          "base_uri": "https://localhost:8080/"
        },
        "outputId": "2c59309c-8aa1-4fb5-89c5-6b7754de6a65"
      },
      "source": [
        "!pip install bert-for-tf2\n",
        "!pip install sentencepiece"
      ],
      "execution_count": 1,
      "outputs": [
        {
          "output_type": "stream",
          "text": [
            "Collecting bert-for-tf2\n",
            "\u001b[?25l  Downloading https://files.pythonhosted.org/packages/a5/a1/acb891630749c56901e770a34d6bac8a509a367dd74a05daf7306952e910/bert-for-tf2-0.14.9.tar.gz (41kB)\n",
            "\r\u001b[K     |████████                        | 10kB 24.3MB/s eta 0:00:01\r\u001b[K     |████████████████                | 20kB 30.5MB/s eta 0:00:01\r\u001b[K     |███████████████████████▉        | 30kB 20.0MB/s eta 0:00:01\r\u001b[K     |███████████████████████████████▉| 40kB 23.3MB/s eta 0:00:01\r\u001b[K     |████████████████████████████████| 51kB 7.9MB/s \n",
            "\u001b[?25hCollecting py-params>=0.9.6\n",
            "  Downloading https://files.pythonhosted.org/packages/aa/e0/4f663d8abf83c8084b75b995bd2ab3a9512ebc5b97206fde38cef906ab07/py-params-0.10.2.tar.gz\n",
            "Collecting params-flow>=0.8.0\n",
            "  Downloading https://files.pythonhosted.org/packages/a9/95/ff49f5ebd501f142a6f0aaf42bcfd1c192dc54909d1d9eb84ab031d46056/params-flow-0.8.2.tar.gz\n",
            "Requirement already satisfied: numpy in /usr/local/lib/python3.7/dist-packages (from params-flow>=0.8.0->bert-for-tf2) (1.19.5)\n",
            "Requirement already satisfied: tqdm in /usr/local/lib/python3.7/dist-packages (from params-flow>=0.8.0->bert-for-tf2) (4.41.1)\n",
            "Building wheels for collected packages: bert-for-tf2, py-params, params-flow\n",
            "  Building wheel for bert-for-tf2 (setup.py) ... \u001b[?25l\u001b[?25hdone\n",
            "  Created wheel for bert-for-tf2: filename=bert_for_tf2-0.14.9-cp37-none-any.whl size=30535 sha256=f08a72460e05f755741783c3fccc995729dbff6b1551ec1e8085634e546ad667\n",
            "  Stored in directory: /root/.cache/pip/wheels/a1/04/ee/347bd9f5b821b637c76411d280271a857aece00358896a230f\n",
            "  Building wheel for py-params (setup.py) ... \u001b[?25l\u001b[?25hdone\n",
            "  Created wheel for py-params: filename=py_params-0.10.2-cp37-none-any.whl size=7912 sha256=45db91f5135583a33a2757ad03f0194a54f3c93b3e0f3b3ef97e0a9d4dad57de\n",
            "  Stored in directory: /root/.cache/pip/wheels/d0/4a/70/ff12450229ff1955abf01f365051d4faae1c20aef53ab4cf09\n",
            "  Building wheel for params-flow (setup.py) ... \u001b[?25l\u001b[?25hdone\n",
            "  Created wheel for params-flow: filename=params_flow-0.8.2-cp37-none-any.whl size=19472 sha256=77df88db1c5954cb91257615cadb0c51f83b9ac4af6f639aa8d8989344749286\n",
            "  Stored in directory: /root/.cache/pip/wheels/08/c8/7f/81c86b9ff2b86e2c477e3914175be03e679e596067dc630c06\n",
            "Successfully built bert-for-tf2 py-params params-flow\n",
            "Installing collected packages: py-params, params-flow, bert-for-tf2\n",
            "Successfully installed bert-for-tf2-0.14.9 params-flow-0.8.2 py-params-0.10.2\n",
            "Collecting sentencepiece\n",
            "\u001b[?25l  Downloading https://files.pythonhosted.org/packages/f5/99/e0808cb947ba10f575839c43e8fafc9cc44e4a7a2c8f79c60db48220a577/sentencepiece-0.1.95-cp37-cp37m-manylinux2014_x86_64.whl (1.2MB)\n",
            "\u001b[K     |████████████████████████████████| 1.2MB 18.1MB/s \n",
            "\u001b[?25hInstalling collected packages: sentencepiece\n",
            "Successfully installed sentencepiece-0.1.95\n"
          ],
          "name": "stdout"
        }
      ]
    },
    {
      "cell_type": "code",
      "metadata": {
        "id": "fOfuPdFHFpfC"
      },
      "source": [
        "try:\n",
        "    %tensorflow_version 2.x\n",
        "except Exception:\n",
        "    pass\n",
        "import tensorflow as tf\n",
        "\n",
        "import tensorflow_hub as hub\n",
        "\n",
        "from tensorflow.keras import layers\n",
        "import bert"
      ],
      "execution_count": 4,
      "outputs": []
    },
    {
      "cell_type": "markdown",
      "metadata": {
        "id": "j6ZbE2lPDIFL"
      },
      "source": [
        "# Stage 2: Data preprocessing"
      ]
    },
    {
      "cell_type": "code",
      "metadata": {
        "id": "5hABc0h8GdTe",
        "colab": {
          "base_uri": "https://localhost:8080/"
        },
        "outputId": "b7ff5a1d-84c9-427d-a090-1d22ae599e41"
      },
      "source": [
        "drive.mount(\"/content/drive\")"
      ],
      "execution_count": 5,
      "outputs": [
        {
          "output_type": "stream",
          "text": [
            "Mounted at /content/drive\n"
          ],
          "name": "stdout"
        }
      ]
    },
    {
      "cell_type": "code",
      "metadata": {
        "id": "slnILsqwGxTX"
      },
      "source": [
        "cols = [\"sentiment\", \"id\", \"date\", \"query\", \"user\", \"text\"]\n",
        "data = pd.read_csv(\n",
        "    \"/content/drive/MyDrive/Project Data/training.1600000.processed.noemoticon.csv\",\n",
        "    header=None,\n",
        "    names=cols,\n",
        "    engine=\"python\",\n",
        "    encoding=\"latin1\"\n",
        ")"
      ],
      "execution_count": 6,
      "outputs": []
    },
    {
      "cell_type": "code",
      "metadata": {
        "colab": {
          "base_uri": "https://localhost:8080/",
          "height": 195
        },
        "id": "ZMwOPNIlZiV1",
        "outputId": "15687dae-b8ce-4cf6-e8e0-865ccd2e8bcf"
      },
      "source": [
        "data.tail()"
      ],
      "execution_count": 11,
      "outputs": [
        {
          "output_type": "execute_result",
          "data": {
            "text/html": [
              "<div>\n",
              "<style scoped>\n",
              "    .dataframe tbody tr th:only-of-type {\n",
              "        vertical-align: middle;\n",
              "    }\n",
              "\n",
              "    .dataframe tbody tr th {\n",
              "        vertical-align: top;\n",
              "    }\n",
              "\n",
              "    .dataframe thead th {\n",
              "        text-align: right;\n",
              "    }\n",
              "</style>\n",
              "<table border=\"1\" class=\"dataframe\">\n",
              "  <thead>\n",
              "    <tr style=\"text-align: right;\">\n",
              "      <th></th>\n",
              "      <th>sentiment</th>\n",
              "      <th>text</th>\n",
              "    </tr>\n",
              "  </thead>\n",
              "  <tbody>\n",
              "    <tr>\n",
              "      <th>1599995</th>\n",
              "      <td>4</td>\n",
              "      <td>Just woke up. Having no school is the best fee...</td>\n",
              "    </tr>\n",
              "    <tr>\n",
              "      <th>1599996</th>\n",
              "      <td>4</td>\n",
              "      <td>TheWDB.com - Very cool to hear old Walt interv...</td>\n",
              "    </tr>\n",
              "    <tr>\n",
              "      <th>1599997</th>\n",
              "      <td>4</td>\n",
              "      <td>Are you ready for your MoJo Makeover? Ask me f...</td>\n",
              "    </tr>\n",
              "    <tr>\n",
              "      <th>1599998</th>\n",
              "      <td>4</td>\n",
              "      <td>Happy 38th Birthday to my boo of alll time!!! ...</td>\n",
              "    </tr>\n",
              "    <tr>\n",
              "      <th>1599999</th>\n",
              "      <td>4</td>\n",
              "      <td>happy #charitytuesday @theNSPCC @SparksCharity...</td>\n",
              "    </tr>\n",
              "  </tbody>\n",
              "</table>\n",
              "</div>"
            ],
            "text/plain": [
              "         sentiment                                               text\n",
              "1599995          4  Just woke up. Having no school is the best fee...\n",
              "1599996          4  TheWDB.com - Very cool to hear old Walt interv...\n",
              "1599997          4  Are you ready for your MoJo Makeover? Ask me f...\n",
              "1599998          4  Happy 38th Birthday to my boo of alll time!!! ...\n",
              "1599999          4  happy #charitytuesday @theNSPCC @SparksCharity..."
            ]
          },
          "metadata": {
            "tags": []
          },
          "execution_count": 11
        }
      ]
    },
    {
      "cell_type": "code",
      "metadata": {
        "id": "REdK4z4YG9kZ"
      },
      "source": [
        "data.drop([\"id\", \"date\", \"query\", \"user\"],\n",
        "          axis=1,\n",
        "          inplace=True)"
      ],
      "execution_count": 8,
      "outputs": []
    },
    {
      "cell_type": "markdown",
      "metadata": {
        "id": "Lz2g61evDZb4"
      },
      "source": [
        "## Preprocessing"
      ]
    },
    {
      "cell_type": "markdown",
      "metadata": {
        "id": "LCyy4babDrI8"
      },
      "source": [
        "### Cleaning"
      ]
    },
    {
      "cell_type": "code",
      "metadata": {
        "id": "UEyorQS_HArn"
      },
      "source": [
        "def clean_tweet(tweet):\n",
        "    tweet = BeautifulSoup(tweet, \"lxml\").get_text()\n",
        "    # Removing user pings\n",
        "    tweet = re.sub(r\"@[A-Za-z0-9]+\", ' ', tweet)\n",
        "    # Removing URLs\n",
        "    tweet = re.sub(r\"https?://[A-Za-z0-9./]+\", ' ', tweet)\n",
        "    # Removing special characters\n",
        "    tweet = re.sub(r\"[^a-zA-Z.!?']\", ' ', tweet)\n",
        "    # Removing additional whitespaces\n",
        "    tweet = re.sub(r\" +\", ' ', tweet)\n",
        "    return tweet"
      ],
      "execution_count": 9,
      "outputs": []
    },
    {
      "cell_type": "code",
      "metadata": {
        "id": "3BlbZpy0HHiV"
      },
      "source": [
        "data_clean = [clean_tweet(tweet) for tweet in data.text]"
      ],
      "execution_count": 12,
      "outputs": []
    },
    {
      "cell_type": "code",
      "metadata": {
        "id": "H6SOj46BHKEk"
      },
      "source": [
        "data_labels = data.sentiment.values\n",
        "#Changing positive sentiment from 4 to 1\n",
        "data_labels[data_labels == 4] = 1"
      ],
      "execution_count": 13,
      "outputs": []
    },
    {
      "cell_type": "markdown",
      "metadata": {
        "id": "MJa3YWeJD1gM"
      },
      "source": [
        "### Tokenization"
      ]
    },
    {
      "cell_type": "markdown",
      "metadata": {
        "id": "MUaCPqqBD7kQ"
      },
      "source": [
        "Creating BERT layer to access tokenizer"
      ]
    },
    {
      "cell_type": "code",
      "metadata": {
        "id": "0wry-st-HMN0"
      },
      "source": [
        "FullTokenizer = bert.bert_tokenization.FullTokenizer\n",
        "#Using uncased tokenizer\n",
        "bert_layer = hub.KerasLayer(\"https://tfhub.dev/tensorflow/bert_en_uncased_L-12_H-768_A-12/1\",\n",
        "                            trainable=False)\n",
        "vocab_file = bert_layer.resolved_object.vocab_file.asset_path.numpy()\n",
        "#For converting to lowercase\n",
        "do_lower_case = bert_layer.resolved_object.do_lower_case.numpy()\n",
        "tokenizer = FullTokenizer(vocab_file, do_lower_case)"
      ],
      "execution_count": 14,
      "outputs": []
    },
    {
      "cell_type": "markdown",
      "metadata": {
        "id": "HMVarTJpELyK"
      },
      "source": [
        "We are only using the first sentence for BERT inputs so we add the CLS token at the beginning and the SEP token at the end of each sentence."
      ]
    },
    {
      "cell_type": "code",
      "metadata": {
        "id": "v-JkZt9NduoC"
      },
      "source": [
        "def encode_sentence(sent):\n",
        "    return [\"[CLS]\"] + tokenizer.tokenize(sent) + [\"[SEP]\"]"
      ],
      "execution_count": 15,
      "outputs": []
    },
    {
      "cell_type": "code",
      "metadata": {
        "id": "pel_Uk6Ic4xB"
      },
      "source": [
        "data_inputs = [encode_sentence(sentence) for sentence in data_clean]"
      ],
      "execution_count": 16,
      "outputs": []
    },
    {
      "cell_type": "markdown",
      "metadata": {
        "id": "z32MeEwnkCB8"
      },
      "source": [
        "### Dataset creation"
      ]
    },
    {
      "cell_type": "markdown",
      "metadata": {
        "id": "cUVc83VNEcW9"
      },
      "source": [
        "We need to create the 3 different inputs for each sentence."
      ]
    },
    {
      "cell_type": "code",
      "metadata": {
        "id": "wmW9JZLJaxww"
      },
      "source": [
        "def get_ids(tokens):\n",
        "    return tokenizer.convert_tokens_to_ids(tokens)\n",
        "\n",
        "def get_mask(tokens):\n",
        "    #masking characters after [PAD]\n",
        "    return np.char.not_equal(tokens, \"[PAD]\").astype(int)\n",
        "#Standard function in case we use multiple sentences for each input\n",
        "def get_segments(tokens):\n",
        "    seg_ids = []\n",
        "    current_seg_id = 0\n",
        "    for tok in tokens:\n",
        "        seg_ids.append(current_seg_id)\n",
        "        if tok == \"[SEP]\":\n",
        "            current_seg_id = 1-current_seg_id # turns 1 into 0 and vice versa\n",
        "    return seg_ids"
      ],
      "execution_count": 17,
      "outputs": []
    },
    {
      "cell_type": "markdown",
      "metadata": {
        "id": "x06fFPFtFqVK"
      },
      "source": [
        "We will create padded batches (so we pad sentences for each batch independently), this way we add the minimum of padding tokens possible. For that, we sort sentences by length, apply padded_batches and then shuffle."
      ]
    },
    {
      "cell_type": "code",
      "metadata": {
        "id": "hjAVGCwlb6F8"
      },
      "source": [
        "data_with_len = [[sent, data_labels[i], len(sent)]\n",
        "                 for i, sent in enumerate(data_inputs)]\n",
        "#shuffling data since it's pre-sorted\n",
        "random.shuffle(data_with_len)\n",
        "#sorting data by length\n",
        "data_with_len.sort(key=lambda x: x[2])\n",
        "sorted_all = [([get_ids(sent_lab[0]),\n",
        "                get_mask(sent_lab[0]),\n",
        "                get_segments(sent_lab[0])],\n",
        "               sent_lab[1])\n",
        "              for sent_lab in data_with_len if sent_lab[2] > 7]"
      ],
      "execution_count": 18,
      "outputs": []
    },
    {
      "cell_type": "code",
      "metadata": {
        "id": "ZkMiqmzsfo6a"
      },
      "source": [
        "# A list is a type of iterator so it can be used as generator for a dataset\n",
        "all_dataset = tf.data.Dataset.from_generator(lambda: sorted_all,\n",
        "                                             output_types=(tf.int32, tf.int32))"
      ],
      "execution_count": 19,
      "outputs": []
    },
    {
      "cell_type": "code",
      "metadata": {
        "id": "gkGWlzeOfos6"
      },
      "source": [
        "BATCH_SIZE = 32\n",
        "#getting padded batches\n",
        "all_batched = all_dataset.padded_batch(BATCH_SIZE,\n",
        "                                       padded_shapes=((3, None), ()),\n",
        "                                       padding_values=(0, 0))"
      ],
      "execution_count": 20,
      "outputs": []
    },
    {
      "cell_type": "code",
      "metadata": {
        "id": "5aA7it--hHl4"
      },
      "source": [
        "#splitting into train and test set\n",
        "NB_BATCHES = math.ceil(len(sorted_all) / BATCH_SIZE)\n",
        "NB_BATCHES_TEST = NB_BATCHES // 10\n",
        "all_batched.shuffle(NB_BATCHES)\n",
        "test_dataset = all_batched.take(NB_BATCHES_TEST)\n",
        "train_dataset = all_batched.skip(NB_BATCHES_TEST)"
      ],
      "execution_count": 21,
      "outputs": []
    },
    {
      "cell_type": "code",
      "metadata": {
        "id": "X4QCPok7aEM_",
        "colab": {
          "base_uri": "https://localhost:8080/"
        },
        "outputId": "8b3236f6-c897-4805-e175-19fba80fd292"
      },
      "source": [
        "next(iter(train_dataset))"
      ],
      "execution_count": 22,
      "outputs": [
        {
          "output_type": "execute_result",
          "data": {
            "text/plain": [
              "(<tf.Tensor: shape=(32, 3, 10), dtype=int32, numpy=\n",
              " array([[[  101,  1045,  4618,  4339,  2003,  2062,  2411,  1999,  2394,\n",
              "            102],\n",
              "         [    1,     1,     1,     1,     1,     1,     1,     1,     1,\n",
              "              1],\n",
              "         [    0,     0,     0,     0,     0,     0,     0,     0,     0,\n",
              "              0]],\n",
              " \n",
              "        [[  101,  4931,  2100,  2017,  7929,  1029,  1029,  1029, 22038,\n",
              "            102],\n",
              "         [    1,     1,     1,     1,     1,     1,     1,     1,     1,\n",
              "              1],\n",
              "         [    0,     0,     0,     0,     0,     0,     0,     0,     0,\n",
              "              0]],\n",
              " \n",
              "        [[  101,  1037,  5457, 28616, 28582,  2094,  4013,  2166,  7423,\n",
              "            102],\n",
              "         [    1,     1,     1,     1,     1,     1,     1,     1,     1,\n",
              "              1],\n",
              "         [    0,     0,     0,     0,     0,     0,     0,     0,     0,\n",
              "              0]],\n",
              " \n",
              "        [[  101,  1045,  2031,  1037,  2878,  1999,  2026, 10818,  2205,\n",
              "            102],\n",
              "         [    1,     1,     1,     1,     1,     1,     1,     1,     1,\n",
              "              1],\n",
              "         [    0,     0,     0,     0,     0,     0,     0,     0,     0,\n",
              "              0]],\n",
              " \n",
              "        [[  101,  1045,  2123,  2102,  2066,  2108,  1037,  3124,  1012,\n",
              "            102],\n",
              "         [    1,     1,     1,     1,     1,     1,     1,     1,     1,\n",
              "              1],\n",
              "         [    0,     0,     0,     0,     0,     0,     0,     0,     0,\n",
              "              0]],\n",
              " \n",
              "        [[  101,  2074,  8271,  2039,  1998,  1045,  2572,  2200,  5458,\n",
              "            102],\n",
              "         [    1,     1,     1,     1,     1,     1,     1,     1,     1,\n",
              "              1],\n",
              "         [    0,     0,     0,     0,     0,     0,     0,     0,     0,\n",
              "              0]],\n",
              " \n",
              "        [[  101,  2006,  1996,  3345,  4133,  2075,  2006,  2026,  2219,\n",
              "            102],\n",
              "         [    1,     1,     1,     1,     1,     1,     1,     1,     1,\n",
              "              1],\n",
              "         [    0,     0,     0,     0,     0,     0,     0,     0,     0,\n",
              "              0]],\n",
              " \n",
              "        [[  101,  2064,  1005,  1056,  3524,  2005,  8692,  3185,  2982,\n",
              "            102],\n",
              "         [    1,     1,     1,     1,     1,     1,     1,     1,     1,\n",
              "              1],\n",
              "         [    0,     0,     0,     0,     0,     0,     0,     0,     0,\n",
              "              0]],\n",
              " \n",
              "        [[  101,  1045, 10587,  2156,  2585,  7905,  9307,  2696,   999,\n",
              "            102],\n",
              "         [    1,     1,     1,     1,     1,     1,     1,     1,     1,\n",
              "              1],\n",
              "         [    0,     0,     0,     0,     0,     0,     0,     0,     0,\n",
              "              0]],\n",
              " \n",
              "        [[  101,  4717,  4013,  3683,  2361,  6513,  3849,  2200,  3835,\n",
              "            102],\n",
              "         [    1,     1,     1,     1,     1,     1,     1,     1,     1,\n",
              "              1],\n",
              "         [    0,     0,     0,     0,     0,     0,     0,     0,     0,\n",
              "              0]],\n",
              " \n",
              "        [[  101, 12731,  2015,  1045,  6684,  2412,  2156,  2017,  5390,\n",
              "            102],\n",
              "         [    1,     1,     1,     1,     1,     1,     1,     1,     1,\n",
              "              1],\n",
              "         [    0,     0,     0,     0,     0,     0,     0,     0,     0,\n",
              "              0]],\n",
              " \n",
              "        [[  101, 13675, 16613,  2100,  2288,  2000,  2131, 13921,  2589,\n",
              "            102],\n",
              "         [    1,     1,     1,     1,     1,     1,     1,     1,     1,\n",
              "              1],\n",
              "         [    0,     0,     0,     0,     0,     0,     0,     0,     0,\n",
              "              0]],\n",
              " \n",
              "        [[  101,  2758,  1043, 16638,  4402, 20228,  3126, 11451,   999,\n",
              "            102],\n",
              "         [    1,     1,     1,     1,     1,     1,     1,     1,     1,\n",
              "              1],\n",
              "         [    0,     0,     0,     0,     0,     0,     0,     0,     0,\n",
              "              0]],\n",
              " \n",
              "        [[  101,  3666, 24582,  2906,  2135,  1012,  2204,  2265,  1012,\n",
              "            102],\n",
              "         [    1,     1,     1,     1,     1,     1,     1,     1,     1,\n",
              "              1],\n",
              "         [    0,     0,     0,     0,     0,     0,     0,     0,     0,\n",
              "              0]],\n",
              " \n",
              "        [[  101,  2718,  7629,  1996,  7668,  2153,  3926,  2008,  7743,\n",
              "            102],\n",
              "         [    1,     1,     1,     1,     1,     1,     1,     1,     1,\n",
              "              1],\n",
              "         [    0,     0,     0,     0,     0,     0,     0,     0,     0,\n",
              "              0]],\n",
              " \n",
              "        [[  101,  2009,  2134,  1005,  1056,  2147,  2005,  2033,  2593,\n",
              "            102],\n",
              "         [    1,     1,     1,     1,     1,     1,     1,     1,     1,\n",
              "              1],\n",
              "         [    0,     0,     0,     0,     0,     0,     0,     0,     0,\n",
              "              0]],\n",
              " \n",
              "        [[  101,  2061,  2429,  2000,  9171,  1045, 11891,  2012, 20661,\n",
              "            102],\n",
              "         [    1,     1,     1,     1,     1,     1,     1,     1,     1,\n",
              "              1],\n",
              "         [    0,     0,     0,     0,     0,     0,     0,     0,     0,\n",
              "              0]],\n",
              " \n",
              "        [[  101,  2129,  2000,  2191,  2032,  1056, 28394,  2102,  1029,\n",
              "            102],\n",
              "         [    1,     1,     1,     1,     1,     1,     1,     1,     1,\n",
              "              1],\n",
              "         [    0,     0,     0,     0,     0,     0,     0,     0,     0,\n",
              "              0]],\n",
              " \n",
              "        [[  101,  2031,  2017,  2288,  2115, 18135,  2664,  1029,  1029,\n",
              "            102],\n",
              "         [    1,     1,     1,     1,     1,     1,     1,     1,     1,\n",
              "              1],\n",
              "         [    0,     0,     0,     0,     0,     0,     0,     0,     0,\n",
              "              0]],\n",
              " \n",
              "        [[  101,  2481,  1005,  1056,  7105,  2349,  2000,  1996,  4542,\n",
              "            102],\n",
              "         [    1,     1,     1,     1,     1,     1,     1,     1,     1,\n",
              "              1],\n",
              "         [    0,     0,     0,     0,     0,     0,     0,     0,     0,\n",
              "              0]],\n",
              " \n",
              "        [[  101,  2054,  2015,  2007,  1996,  4542,  1029,  1060,  2080,\n",
              "            102],\n",
              "         [    1,     1,     1,     1,     1,     1,     1,     1,     1,\n",
              "              1],\n",
              "         [    0,     0,     0,     0,     0,     0,     0,     0,     0,\n",
              "              0]],\n",
              " \n",
              "        [[  101,  2643,  1045,  4299,  1045,  2001,  2145,  1999,  2637,\n",
              "            102],\n",
              "         [    1,     1,     1,     1,     1,     1,     1,     1,     1,\n",
              "              1],\n",
              "         [    0,     0,     0,     0,     0,     0,     0,     0,     0,\n",
              "              0]],\n",
              " \n",
              "        [[  101,  3492,  2469,  2017,  1005,  2222,  2514,  2488,  4826,\n",
              "            102],\n",
              "         [    1,     1,     1,     1,     1,     1,     1,     1,     1,\n",
              "              1],\n",
              "         [    0,     0,     0,     0,     0,     0,     0,     0,     0,\n",
              "              0]],\n",
              " \n",
              "        [[  101,  1045,  2572,  2188, 10720,  2378,  1012,  1012,  1012,\n",
              "            102],\n",
              "         [    1,     1,     1,     1,     1,     1,     1,     1,     1,\n",
              "              1],\n",
              "         [    0,     0,     0,     0,     0,     0,     0,     0,     0,\n",
              "              0]],\n",
              " \n",
              "        [[  101,  5791,  2007,  2017,  2006,  2008,  2028,  3892,  1012,\n",
              "            102],\n",
              "         [    1,     1,     1,     1,     1,     1,     1,     1,     1,\n",
              "              1],\n",
              "         [    0,     0,     0,     0,     0,     0,     0,     0,     0,\n",
              "              0]],\n",
              " \n",
              "        [[  101, 10238,  2006,  2011,  1996,  2203,  1997,  1996,  2733,\n",
              "            102],\n",
              "         [    1,     1,     1,     1,     1,     1,     1,     1,     1,\n",
              "              1],\n",
              "         [    0,     0,     0,     0,     0,     0,     0,     0,     0,\n",
              "              0]],\n",
              " \n",
              "        [[  101,  2204,  6735,   999,  2017,  1005,  2222,  2079,  2092,\n",
              "            102],\n",
              "         [    1,     1,     1,     1,     1,     1,     1,     1,     1,\n",
              "              1],\n",
              "         [    0,     0,     0,     0,     0,     0,     0,     0,     0,\n",
              "              0]],\n",
              " \n",
              "        [[  101, 13938,  3632, 17482,  4826,  1012,  1012,  1012,  1012,\n",
              "            102],\n",
              "         [    1,     1,     1,     1,     1,     1,     1,     1,     1,\n",
              "              1],\n",
              "         [    0,     0,     0,     0,     0,     0,     0,     0,     0,\n",
              "              0]],\n",
              " \n",
              "        [[  101, 10094,  2000,  2175,  2000,  2277,  9805,  1037, 12181,\n",
              "            102],\n",
              "         [    1,     1,     1,     1,     1,     1,     1,     1,     1,\n",
              "              1],\n",
              "         [    0,     0,     0,     0,     0,     0,     0,     0,     0,\n",
              "              0]],\n",
              " \n",
              "        [[  101,  2821,  6672,  4430,  1012,  1012,  2196,  3582,  2014,\n",
              "            102],\n",
              "         [    1,     1,     1,     1,     1,     1,     1,     1,     1,\n",
              "              1],\n",
              "         [    0,     0,     0,     0,     0,     0,     0,     0,     0,\n",
              "              0]],\n",
              " \n",
              "        [[  101,  3035,  3374,  2065,  1045,  2288,  1057,  5305,  1012,\n",
              "            102],\n",
              "         [    1,     1,     1,     1,     1,     1,     1,     1,     1,\n",
              "              1],\n",
              "         [    0,     0,     0,     0,     0,     0,     0,     0,     0,\n",
              "              0]],\n",
              " \n",
              "        [[  101,  1051,  1012,  1051,  1045, 10587,  2272,  2007,  2017,\n",
              "            102],\n",
              "         [    1,     1,     1,     1,     1,     1,     1,     1,     1,\n",
              "              1],\n",
              "         [    0,     0,     0,     0,     0,     0,     0,     0,     0,\n",
              "              0]]], dtype=int32)>, <tf.Tensor: shape=(32,), dtype=int32, numpy=\n",
              " array([1, 1, 0, 0, 0, 0, 0, 1, 0, 1, 1, 0, 1, 1, 1, 0, 0, 1, 1, 0, 0, 0,\n",
              "        0, 1, 0, 1, 1, 0, 1, 0, 0, 0], dtype=int32)>)"
            ]
          },
          "metadata": {
            "tags": []
          },
          "execution_count": 22
        }
      ]
    },
    {
      "cell_type": "markdown",
      "metadata": {
        "id": "N2pxAPFxGe8r"
      },
      "source": [
        "# Stage 3: Model building"
      ]
    },
    {
      "cell_type": "code",
      "metadata": {
        "id": "L6DD3k3qPLDQ"
      },
      "source": [
        "class DCNNBERTEmbedding(tf.keras.Model):\n",
        "    \n",
        "    def __init__(self,\n",
        "                 nb_filters=50,\n",
        "                 FFN_units=512,\n",
        "                 nb_classes=2,\n",
        "                 dropout_rate=0.1,\n",
        "                 name=\"dcnn\"):\n",
        "        super(DCNNBERTEmbedding, self).__init__(name=name)\n",
        "        \n",
        "        self.bert_layer = hub.KerasLayer(\n",
        "            \"https://tfhub.dev/tensorflow/bert_en_uncased_L-12_H-768_A-12/1\",\n",
        "            trainable=False)\n",
        "\n",
        "        self.bigram = layers.Conv1D(filters=nb_filters,\n",
        "                                    kernel_size=2,\n",
        "                                    padding=\"valid\",\n",
        "                                    activation=\"relu\")\n",
        "        self.trigram = layers.Conv1D(filters=nb_filters,\n",
        "                                     kernel_size=3,\n",
        "                                     padding=\"valid\",\n",
        "                                     activation=\"relu\")\n",
        "        self.fourgram = layers.Conv1D(filters=nb_filters,\n",
        "                                      kernel_size=4,\n",
        "                                      padding=\"valid\",\n",
        "                                      activation=\"relu\")\n",
        "        self.pool = layers.GlobalMaxPool1D()\n",
        "        self.dense_1 = layers.Dense(units=FFN_units, activation=\"relu\")\n",
        "        self.dropout = layers.Dropout(rate=dropout_rate)\n",
        "        if nb_classes == 2:\n",
        "            self.last_dense = layers.Dense(units=1,\n",
        "                                           activation=\"sigmoid\")\n",
        "        else:\n",
        "            self.last_dense = layers.Dense(units=nb_classes,\n",
        "                                           activation=\"softmax\")\n",
        "    \n",
        "    def embed_with_bert(self, all_tokens):\n",
        "      #ignore first output since we're not using sentence context, only word context\n",
        "        _, embs = self.bert_layer([all_tokens[:, 0, :],\n",
        "                                   all_tokens[:, 1, :],\n",
        "                                   all_tokens[:, 2, :]])\n",
        "        return embs\n",
        "\n",
        "    def call(self, inputs, training):\n",
        "        x = self.embed_with_bert(inputs)\n",
        "\n",
        "        print(x.shape)\n",
        "\n",
        "        x_1 = self.bigram(x)\n",
        "        x_1 = self.pool(x_1)\n",
        "        x_2 = self.trigram(x)\n",
        "        x_2 = self.pool(x_2)\n",
        "        x_3 = self.fourgram(x)\n",
        "        x_3 = self.pool(x_3)\n",
        "        \n",
        "        merged = tf.concat([x_1, x_2, x_3], axis=-1) # (batch_size, 3 * nb_filters)\n",
        "        merged = self.dense_1(merged)\n",
        "        merged = self.dropout(merged, training)\n",
        "        output = self.last_dense(merged)\n",
        "        \n",
        "        return output"
      ],
      "execution_count": 23,
      "outputs": []
    },
    {
      "cell_type": "markdown",
      "metadata": {
        "id": "hsWpzQz2IQvJ"
      },
      "source": [
        "# Stage 4: Training"
      ]
    },
    {
      "cell_type": "code",
      "metadata": {
        "id": "lhfUFvWEPOIf"
      },
      "source": [
        "NB_FILTERS = 100\n",
        "FFN_UNITS = 256\n",
        "NB_CLASSES = 2\n",
        "\n",
        "DROPOUT_RATE = 0.2\n",
        "\n",
        "BATCH_SIZE = 32\n",
        "NB_EPOCHS = 5"
      ],
      "execution_count": 24,
      "outputs": []
    },
    {
      "cell_type": "code",
      "metadata": {
        "id": "5HPbZ72KPPnX"
      },
      "source": [
        "Dcnn = DCNNBERTEmbedding(nb_filters=NB_FILTERS,\n",
        "                         FFN_units=FFN_UNITS,\n",
        "                         nb_classes=NB_CLASSES,\n",
        "                         dropout_rate=DROPOUT_RATE)"
      ],
      "execution_count": 25,
      "outputs": []
    },
    {
      "cell_type": "code",
      "metadata": {
        "id": "JpHDseF0QLl3"
      },
      "source": [
        "if NB_CLASSES == 2:\n",
        "    Dcnn.compile(loss=\"binary_crossentropy\",\n",
        "                 optimizer=\"adam\",\n",
        "                 metrics=[\"accuracy\"])\n",
        "else:\n",
        "    Dcnn.compile(loss=\"sparse_categorical_crossentropy\",\n",
        "                 optimizer=\"adam\",\n",
        "                 metrics=[\"sparse_categorical_accuracy\"])"
      ],
      "execution_count": 26,
      "outputs": []
    },
    {
      "cell_type": "code",
      "metadata": {
        "id": "K1hdT_JT2Rfi",
        "colab": {
          "base_uri": "https://localhost:8080/"
        },
        "outputId": "a62908b6-d0f8-47ec-c8b6-9941b56dc909"
      },
      "source": [
        "checkpoint_path = \"/content/drive/MyDrive/Project Data/Checkpoints/bert_ckpt_embedding\"\n",
        "\n",
        "ckpt = tf.train.Checkpoint(Dcnn=Dcnn)\n",
        "\n",
        "ckpt_manager = tf.train.CheckpointManager(ckpt, checkpoint_path, max_to_keep=1)\n",
        "\n",
        "if ckpt_manager.latest_checkpoint:\n",
        "    ckpt.restore(ckpt_manager.latest_checkpoint)\n",
        "    print(\"Checkpoint Restored\")"
      ],
      "execution_count": 28,
      "outputs": [
        {
          "output_type": "stream",
          "text": [
            "Checkpoint Restored\n"
          ],
          "name": "stdout"
        }
      ]
    },
    {
      "cell_type": "code",
      "metadata": {
        "id": "e8LHztku2cjl"
      },
      "source": [
        "class CustomCallback(tf.keras.callbacks.Callback):\n",
        "\n",
        "    def on_epoch_end(self, epoch, logs=None):\n",
        "        ckpt_manager.save()\n",
        "        print(\"Checkpoint saved at {}.\".format(checkpoint_path))"
      ],
      "execution_count": 30,
      "outputs": []
    },
    {
      "cell_type": "markdown",
      "metadata": {
        "id": "V0C5lNxFTMrA"
      },
      "source": [
        "## Result"
      ]
    },
    {
      "cell_type": "code",
      "metadata": {
        "id": "WrT8oWZzQNmW",
        "colab": {
          "base_uri": "https://localhost:8080/"
        },
        "outputId": "0d34da8e-d62c-4ff2-9f41-22174363b080"
      },
      "source": [
        "Dcnn.fit(train_dataset,\n",
        "         epochs=NB_EPOCHS,\n",
        "         callbacks=[CustomCallback()])"
      ],
      "execution_count": 31,
      "outputs": [
        {
          "output_type": "stream",
          "text": [
            "Epoch 1/5\n",
            "(None, None, 768)\n",
            "(None, None, 768)\n",
            "40623/40623 [==============================] - 2283s 55ms/step - loss: 0.3238 - accuracy: 0.8615\n",
            "Checkpoint saved at /content/drive/MyDrive/Project Data/Checkpoints/bert_ckpt_embedding.\n",
            "Epoch 2/5\n",
            "40623/40623 [==============================] - 2253s 55ms/step - loss: 0.3170 - accuracy: 0.8645\n",
            "Checkpoint saved at /content/drive/MyDrive/Project Data/Checkpoints/bert_ckpt_embedding.\n",
            "Epoch 3/5\n",
            "40623/40623 [==============================] - 2258s 55ms/step - loss: 0.3112 - accuracy: 0.8670\n",
            "Checkpoint saved at /content/drive/MyDrive/Project Data/Checkpoints/bert_ckpt_embedding.\n",
            "Epoch 4/5\n",
            "40623/40623 [==============================] - 2268s 55ms/step - loss: 0.3055 - accuracy: 0.8689\n",
            "Checkpoint saved at /content/drive/MyDrive/Project Data/Checkpoints/bert_ckpt_embedding.\n",
            "Epoch 5/5\n",
            "40623/40623 [==============================] - 2243s 55ms/step - loss: 0.3009 - accuracy: 0.8704\n",
            "Checkpoint saved at /content/drive/MyDrive/Project Data/Checkpoints/bert_ckpt_embedding.\n"
          ],
          "name": "stdout"
        },
        {
          "output_type": "execute_result",
          "data": {
            "text/plain": [
              "<tensorflow.python.keras.callbacks.History at 0x7f10f9807bd0>"
            ]
          },
          "metadata": {
            "tags": []
          },
          "execution_count": 31
        }
      ]
    },
    {
      "cell_type": "markdown",
      "metadata": {
        "id": "MAb_ijA5Idmz"
      },
      "source": [
        "# Stage 5: Evaluation"
      ]
    },
    {
      "cell_type": "code",
      "metadata": {
        "id": "gQN-Y99WIf6m",
        "colab": {
          "base_uri": "https://localhost:8080/"
        },
        "outputId": "1783740d-4ba8-429b-a0a5-67676ab998ab"
      },
      "source": [
        "results = Dcnn.evaluate(test_dataset)\n",
        "print(results)"
      ],
      "execution_count": 32,
      "outputs": [
        {
          "output_type": "stream",
          "text": [
            "(None, None, 768)\n",
            "4513/4513 [==============================] - 105s 23ms/step - loss: 0.3510 - accuracy: 0.8558\n",
            "[0.35098958015441895, 0.8557708263397217]\n"
          ],
          "name": "stdout"
        }
      ]
    },
    {
      "cell_type": "code",
      "metadata": {
        "id": "Rj98dgxnmhak"
      },
      "source": [
        "def get_prediction(sentence):\n",
        "    tokens = encode_sentence(sentence)\n",
        "\n",
        "    input_ids = get_ids(tokens)\n",
        "    input_mask = get_mask(tokens)\n",
        "    segment_ids = get_segments(tokens)\n",
        "\n",
        "    inputs = tf.stack(\n",
        "        [tf.cast(input_ids, dtype=tf.int32),\n",
        "         tf.cast(input_mask, dtype=tf.int32),\n",
        "         tf.cast(segment_ids, dtype=tf.int32)],\n",
        "         axis=0)\n",
        "    inputs = tf.expand_dims(inputs, 0) # simulates a batch\n",
        "\n",
        "    output = Dcnn(inputs, training=False)\n",
        "\n",
        "    sentiment = math.floor(output*2)\n",
        "\n",
        "    if sentiment == 0:\n",
        "        print(\"Output of the model: {}\\nPredicted sentiment: negative\".format(\n",
        "            output))\n",
        "    elif sentiment == 1:\n",
        "        print(\"Output of the model: {}\\nPredicted sentiment: positive\".format(\n",
        "            output))"
      ],
      "execution_count": 33,
      "outputs": []
    },
    {
      "cell_type": "code",
      "metadata": {
        "id": "J9jC8UnJgOjS",
        "colab": {
          "base_uri": "https://localhost:8080/"
        },
        "outputId": "cf0c714b-fd2f-44c2-b570-a659c3d0a57a"
      },
      "source": [
        "get_prediction(\"This is a mediocre play for an unintelligent audience.\")"
      ],
      "execution_count": 34,
      "outputs": [
        {
          "output_type": "stream",
          "text": [
            "(1, 17, 768)\n",
            "Output of the model: [[0.1147621]]\n",
            "Predicted sentiment: negative\n"
          ],
          "name": "stdout"
        }
      ]
    }
  ]
}